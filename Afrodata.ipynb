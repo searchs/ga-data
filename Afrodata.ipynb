{
 "cells": [
  {
   "cell_type": "code",
   "execution_count": 2,
   "metadata": {
    "collapsed": false
   },
   "outputs": [],
   "source": [
    "import pandas as pd\n",
    "import numpy as np\n",
    "from pandas import Series, DataFrame\n",
    "import statsmodels.api as sm\n",
    "import matplotlib.pyplot as plt\n"
   ]
  },
  {
   "cell_type": "code",
   "execution_count": 5,
   "metadata": {
    "collapsed": false
   },
   "outputs": [
    {
     "name": "stdout",
     "output_type": "stream",
     "text": [
      "Collecting geocoder\n",
      "  Using cached geocoder-1.17.4-py2.py3-none-any.whl\n",
      "Requirement already up-to-date: requests in /usr/local/lib/python3.5/site-packages (from geocoder)\n",
      "Collecting ratelim (from geocoder)\n",
      "  Using cached ratelim-0.1.6-py2.py3-none-any.whl\n",
      "Requirement already up-to-date: click in /usr/local/lib/python3.5/site-packages (from geocoder)\n",
      "Requirement already up-to-date: six in /usr/local/lib/python3.5/site-packages (from geocoder)\n",
      "Requirement already up-to-date: decorator in /usr/local/lib/python3.5/site-packages (from ratelim->geocoder)\n",
      "Installing collected packages: ratelim, geocoder\n",
      "Successfully installed geocoder-1.17.4 ratelim-0.1.6\n",
      "Populating the interactive namespace from numpy and matplotlib\n"
     ]
    }
   ],
   "source": [
    "!pip3 install --upgrade geocoder\n",
    "from pandas_datareader import data, wb\n",
    "import folium\n",
    "import geocoder\n",
    "#import urllib2\n",
    "%pylab inline\n",
    "pylab.rcParams['figure.figsize'] = (10, 8)"
   ]
  },
  {
   "cell_type": "code",
   "execution_count": 6,
   "metadata": {
    "collapsed": true
   },
   "outputs": [],
   "source": [
    "df = wb.download(\n",
    "                    # Specify indicator to retrieve\n",
    "                    indicator='SP.POP.TOTL',\n",
    "                    country=['all'],\n",
    "                    # Start Year\n",
    "                    start='2008',\n",
    "                    # End Year\n",
    "                    end=2016\n",
    "                )"
   ]
  },
  {
   "cell_type": "code",
   "execution_count": 8,
   "metadata": {
    "collapsed": false
   },
   "outputs": [
    {
     "data": {
      "text/plain": [
       "(2112, 1)"
      ]
     },
     "execution_count": 8,
     "metadata": {},
     "output_type": "execute_result"
    }
   ],
   "source": [
    "df.shape"
   ]
  },
  {
   "cell_type": "code",
   "execution_count": 9,
   "metadata": {
    "collapsed": false
   },
   "outputs": [
    {
     "data": {
      "text/html": [
       "<div>\n",
       "<table border=\"1\" class=\"dataframe\">\n",
       "  <thead>\n",
       "    <tr style=\"text-align: right;\">\n",
       "      <th></th>\n",
       "      <th></th>\n",
       "      <th>SP.POP.TOTL</th>\n",
       "    </tr>\n",
       "    <tr>\n",
       "      <th>country</th>\n",
       "      <th>year</th>\n",
       "      <th></th>\n",
       "    </tr>\n",
       "  </thead>\n",
       "  <tbody>\n",
       "    <tr>\n",
       "      <th rowspan=\"5\" valign=\"top\">Arab World</th>\n",
       "      <th>2015</th>\n",
       "      <td>392022276.0</td>\n",
       "    </tr>\n",
       "    <tr>\n",
       "      <th>2014</th>\n",
       "      <td>384222592.0</td>\n",
       "    </tr>\n",
       "    <tr>\n",
       "      <th>2013</th>\n",
       "      <td>376504253.0</td>\n",
       "    </tr>\n",
       "    <tr>\n",
       "      <th>2012</th>\n",
       "      <td>368802611.0</td>\n",
       "    </tr>\n",
       "    <tr>\n",
       "      <th>2011</th>\n",
       "      <td>361031820.0</td>\n",
       "    </tr>\n",
       "  </tbody>\n",
       "</table>\n",
       "</div>"
      ],
      "text/plain": [
       "                 SP.POP.TOTL\n",
       "country    year             \n",
       "Arab World 2015  392022276.0\n",
       "           2014  384222592.0\n",
       "           2013  376504253.0\n",
       "           2012  368802611.0\n",
       "           2011  361031820.0"
      ]
     },
     "execution_count": 9,
     "metadata": {},
     "output_type": "execute_result"
    }
   ],
   "source": [
    "df.head()"
   ]
  },
  {
   "cell_type": "code",
   "execution_count": null,
   "metadata": {
    "collapsed": true
   },
   "outputs": [],
   "source": []
  }
 ],
 "metadata": {
  "kernelspec": {
   "display_name": "Python 3",
   "language": "python",
   "name": "python3"
  },
  "language_info": {
   "codemirror_mode": {
    "name": "ipython",
    "version": 3
   },
   "file_extension": ".py",
   "mimetype": "text/x-python",
   "name": "python",
   "nbconvert_exporter": "python",
   "pygments_lexer": "ipython3",
   "version": "3.5.2"
  }
 },
 "nbformat": 4,
 "nbformat_minor": 0
}
